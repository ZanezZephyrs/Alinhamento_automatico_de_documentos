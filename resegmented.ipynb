{
 "cells": [
  {
   "cell_type": "code",
   "execution_count": 1,
   "metadata": {},
   "outputs": [],
   "source": [
    "import imutils\n",
    "import numpy as np\n",
    "import cv2\n",
    "import os\n",
    "import matplotlib.pyplot as plt\n",
    "from matplotlib import cm"
   ]
  },
  {
   "cell_type": "code",
   "execution_count": 2,
   "metadata": {},
   "outputs": [],
   "source": [
    "def calcula_proj_horizontal(img):\n",
    "    temp=np.bitwise_not(img)\n",
    "    project=np.sum(temp,1)\n",
    "    return project\n",
    "\n",
    "def calcula_proj_vertical(img):\n",
    "    temp=np.bitwise_not(img)\n",
    "    project=np.sum(temp,0)\n",
    "    return project\n",
    "\n",
    "def found_line_discard(proj):\n",
    "    for i in range(len(proj)):\n",
    "        if(proj[i]!=0):\n",
    "            return i\n",
    "        \n",
    "def found_column_discard(proj):\n",
    "    for i in range(len(proj)):\n",
    "        if(proj[i]!=0):\n",
    "            return i"
   ]
  },
  {
   "cell_type": "code",
   "execution_count": 17,
   "metadata": {},
   "outputs": [
    {
     "name": "stdout",
     "output_type": "stream",
     "text": [
      "segmentando imagem 1\n",
      "segmentando imagem 2\n",
      "segmentando imagem 3\n",
      "segmentando imagem 4\n",
      "segmentando imagem 5\n",
      "segmentando imagem 6\n",
      "segmentando imagem 7\n",
      "segmentando imagem 8\n",
      "segmentando imagem 9\n",
      "segmentando imagem 10\n",
      "segmentando imagem 11\n",
      "segmentando imagem 12\n",
      "segmentando imagem 13\n",
      "segmentando imagem 14\n",
      "segmentando imagem 15\n",
      "segmentando imagem 16\n"
     ]
    }
   ],
   "source": [
    "path=\"imagens_hough_transform\"\n",
    "dest=\"imagens_hough_transform_segmentadas\"\n",
    "if(os.path.isdir(dest)==False):\n",
    "    os.mkdir(dest)\n",
    "dicionario={}\n",
    "i=0\n",
    "for root, dirs, files in os.walk(path):\n",
    "    for file in files:\n",
    "        if \".png\" in file:\n",
    "            i+=1\n",
    "            img= cv2.imread(root+\"/\"+file,cv2.IMREAD_GRAYSCALE)\n",
    "            projecao=calcula_proj_horizontal(img)\n",
    "            line_discard=found_line_discard(projecao)\n",
    "            \n",
    "            projecao=calcula_proj_vertical(img)\n",
    "            column_discard=found_column_discard(projecao)\n",
    "            print(\"segmentando imagem {}\".format(i))\n",
    "            temp=img[line_discard+1:-(line_discard+1),(column_discard+1):-(column_discard+1)]\n",
    "            cv2.imwrite(dest+\"/\"+file[:-3]+'png',temp)\n",
    "            \n"
   ]
  },
  {
   "cell_type": "code",
   "execution_count": 12,
   "metadata": {},
   "outputs": [],
   "source": [
    "img=cv2.imread(\"500451932.page_0..png\", cv2.IMREAD_GRAYSCALE)\n"
   ]
  },
  {
   "cell_type": "code",
   "execution_count": 15,
   "metadata": {},
   "outputs": [],
   "source": [
    "projecao=calcula_proj_horizontal(img)"
   ]
  },
  {
   "cell_type": "code",
   "execution_count": 16,
   "metadata": {},
   "outputs": [
    {
     "data": {
      "text/plain": [
       "0"
      ]
     },
     "execution_count": 16,
     "metadata": {},
     "output_type": "execute_result"
    }
   ],
   "source": [
    "found_column_discard(projecao)"
   ]
  },
  {
   "cell_type": "code",
   "execution_count": null,
   "metadata": {},
   "outputs": [],
   "source": [
    "cv2.imshow(\"img\", img)\n",
    "cv2.waitKey(0)\n",
    "cv2.destroyAllWindows()"
   ]
  },
  {
   "cell_type": "code",
   "execution_count": null,
   "metadata": {},
   "outputs": [],
   "source": []
  }
 ],
 "metadata": {
  "kernelspec": {
   "display_name": "Python 3",
   "language": "python",
   "name": "python3"
  },
  "language_info": {
   "codemirror_mode": {
    "name": "ipython",
    "version": 3
   },
   "file_extension": ".py",
   "mimetype": "text/x-python",
   "name": "python",
   "nbconvert_exporter": "python",
   "pygments_lexer": "ipython3",
   "version": "3.7.1"
  }
 },
 "nbformat": 4,
 "nbformat_minor": 2
}
